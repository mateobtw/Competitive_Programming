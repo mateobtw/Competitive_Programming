{
 "cells": [
  {
   "cell_type": "code",
   "execution_count": 7,
   "id": "4db89515",
   "metadata": {},
   "outputs": [
    {
     "name": "stdout",
     "output_type": "stream",
     "text": [
      "M.Y\n"
     ]
    }
   ],
   "source": [
    "name = 'Manuel Yanez'\n",
    "first, last = name.upper().split()\n",
    "resp = f'{first[0]}.{last[0]}'\n",
    "print(resp)\n"
   ]
  },
  {
   "cell_type": "code",
   "execution_count": 18,
   "id": "22ff0426",
   "metadata": {},
   "outputs": [],
   "source": [
    "def century(year):\n",
    "    # Finish this :)\n",
    "    c = year / 100\n",
    "    if year % 100 == 0:\n",
    "        return c\n",
    "    else:\n",
    "        return int(c) + 1"
   ]
  },
  {
   "cell_type": "code",
   "execution_count": 22,
   "id": "34daf559",
   "metadata": {},
   "outputs": [],
   "source": [
    "def count_sheep(n):\n",
    "    return \"\".join(f\"{i} sheep...\" for i in range(1, n + 1))"
   ]
  },
  {
   "cell_type": "code",
   "execution_count": 3,
   "id": "2f5f2b36",
   "metadata": {},
   "outputs": [],
   "source": [
    "num = 35231"
   ]
  },
  {
   "cell_type": "code",
   "execution_count": 34,
   "id": "940d7c82",
   "metadata": {},
   "outputs": [
    {
     "name": "stdout",
     "output_type": "stream",
     "text": [
      "None\n"
     ]
    }
   ],
   "source": [
    "print(list(str(num)).reverse())"
   ]
  },
  {
   "cell_type": "code",
   "execution_count": null,
   "id": "25626e37",
   "metadata": {},
   "outputs": [],
   "source": [
    "x = [1, 3, 2].reverse()"
   ]
  },
  {
   "cell_type": "code",
   "execution_count": 4,
   "id": "445009a1",
   "metadata": {},
   "outputs": [
    {
     "data": {
      "text/plain": [
       "[3, 5, 2, 3, 1]"
      ]
     },
     "execution_count": 4,
     "metadata": {},
     "output_type": "execute_result"
    }
   ],
   "source": [
    "lista = map(int, str(num))\n",
    "list(lista)"
   ]
  },
  {
   "cell_type": "code",
   "execution_count": 6,
   "id": "c7765336",
   "metadata": {},
   "outputs": [
    {
     "data": {
      "text/plain": [
       "type"
      ]
     },
     "execution_count": 6,
     "metadata": {},
     "output_type": "execute_result"
    }
   ],
   "source": [
    "type(type(lista))"
   ]
  },
  {
   "cell_type": "code",
   "execution_count": 9,
   "id": "23725e3e",
   "metadata": {},
   "outputs": [],
   "source": [
    "lista2 = [1, 2, \"a\", \"b\"]"
   ]
  },
  {
   "cell_type": "code",
   "execution_count": 10,
   "id": "3bdd56dd",
   "metadata": {},
   "outputs": [],
   "source": [
    "def filter_list(l):\n",
    "    \"return a new list with the strings filtered out\"\n",
    "    [x for x in l if isinstance(x, int)]"
   ]
  },
  {
   "cell_type": "code",
   "execution_count": 13,
   "id": "1f2b1de8",
   "metadata": {},
   "outputs": [
    {
     "data": {
      "text/plain": [
       "[1, 2]"
      ]
     },
     "execution_count": 13,
     "metadata": {},
     "output_type": "execute_result"
    }
   ],
   "source": [
    "[x for x in lista2 if isinstance(x, int)]"
   ]
  },
  {
   "cell_type": "code",
   "execution_count": 17,
   "id": "b0ff457e",
   "metadata": {},
   "outputs": [
    {
     "name": "stdout",
     "output_type": "stream",
     "text": [
      "['Open', 'Open', 'Senior', 'Open', 'Open', 'Senior']\n"
     ]
    }
   ],
   "source": [
    "data = [[18, 20], [45, 2], [61, 12], [37, 6], [21, 21], [78, 9]]\n",
    "\n",
    "result = []\n",
    "for age, handicap in data:\n",
    "    if age >= 55 and handicap > 7:\n",
    "        result.append(\"Senior\")\n",
    "    else:\n",
    "        result.append(\"Open\")\n",
    "print(result)"
   ]
  },
  {
   "cell_type": "code",
   "execution_count": 18,
   "id": "e6031d72",
   "metadata": {},
   "outputs": [],
   "source": [
    "def openOrSenior(data):\n",
    "    return [\n",
    "        \"Senior\" if age >= 55 and handicap >= 8 else \"Open\" for (age, handicap) in data\n",
    "    ]"
   ]
  },
  {
   "cell_type": "code",
   "execution_count": null,
   "id": "99c71aaa",
   "metadata": {},
   "outputs": [
    {
     "data": {
      "text/plain": [
       "12.0"
      ]
     },
     "execution_count": 23,
     "metadata": {},
     "output_type": "execute_result"
    }
   ],
   "source": [
    "import math\n",
    "math.sqrt(144)"
   ]
  },
  {
   "cell_type": "code",
   "execution_count": 25,
   "id": "b37de6e0",
   "metadata": {},
   "outputs": [
    {
     "data": {
      "text/plain": [
       "False"
      ]
     },
     "execution_count": 25,
     "metadata": {},
     "output_type": "execute_result"
    }
   ],
   "source": [
    "14.2 == int(14.2)"
   ]
  },
  {
   "cell_type": "code",
   "execution_count": 32,
   "id": "e5ab1e47",
   "metadata": {},
   "outputs": [
    {
     "data": {
      "text/plain": [
       "'abcdefklmopqwxy'"
      ]
     },
     "execution_count": 32,
     "metadata": {},
     "output_type": "execute_result"
    }
   ],
   "source": [
    "a = \"xyaabbbccccdefww\"\n",
    "b = \"xxxxyyyyabklmopq\"\n",
    "result = ''.join(sorted(set(a + b)))\n",
    "result\n"
   ]
  },
  {
   "cell_type": "code",
   "execution_count": 37,
   "id": "e0198251",
   "metadata": {},
   "outputs": [
    {
     "data": {
      "text/plain": [
       "3"
      ]
     },
     "execution_count": 37,
     "metadata": {},
     "output_type": "execute_result"
    }
   ],
   "source": [
    "len('manuel')\n",
    "\n",
    "7 //2"
   ]
  },
  {
   "cell_type": "code",
   "execution_count": 42,
   "id": "1e7d3e0e",
   "metadata": {},
   "outputs": [
    {
     "data": {
      "text/plain": [
       "'Manuel, Cafe and 2 like this'"
      ]
     },
     "execution_count": 42,
     "metadata": {},
     "output_type": "execute_result"
    }
   ],
   "source": [
    "def likes(names):\n",
    "    # your code here\n",
    "    l = len(names)\n",
    "    if l == 0:\n",
    "        return f\"no one likes this\"\n",
    "    if l == 1:\n",
    "        return f\"{names[0]} like this\"\n",
    "    if l == 2:\n",
    "        return f\"{names[0]} and {names[1]} like this\"\n",
    "    if l == 3:\n",
    "        return f\"{names[0]}, {names[1]} and {names[2]} like this\"\n",
    "    else:\n",
    "        return f\"{names[0]}, {names[1]} and {l - 2} like this\"\n",
    "\n",
    "\n",
    "likes(['Manuel', 'Cafe', 'Amarillo', 'Rosado'])"
   ]
  },
  {
   "cell_type": "code",
   "execution_count": null,
   "id": "c9be6d15",
   "metadata": {},
   "outputs": [
    {
     "ename": "NameError",
     "evalue": "name 'MORSE_CODE' is not defined",
     "output_type": "error",
     "traceback": [
      "\u001b[1;31m---------------------------------------------------------------------------\u001b[0m",
      "\u001b[1;31mNameError\u001b[0m                                 Traceback (most recent call last)",
      "Cell \u001b[1;32mIn[43], line 1\u001b[0m\n\u001b[1;32m----> 1\u001b[0m \u001b[43mMORSE_CODE\u001b[49m[\u001b[38;5;124m'\u001b[39m\u001b[38;5;124m.--\u001b[39m\u001b[38;5;124m'\u001b[39m]\n",
      "\u001b[1;31mNameError\u001b[0m: name 'MORSE_CODE' is not defined"
     ]
    }
   ],
   "source": [
    "from preloaded import MORSE_CODE\n",
    "\n",
    "MORSE_CODE['.--']"
   ]
  },
  {
   "cell_type": "code",
   "execution_count": 68,
   "id": "e78d4205",
   "metadata": {},
   "outputs": [
    {
     "data": {
      "text/plain": [
       "['',\n",
       " '',\n",
       " '...---... -.-.--',\n",
       " '- .... .',\n",
       " '--.- ..- .. -.-. -.-',\n",
       " '-... .-. --- .-- -.',\n",
       " '..-. --- -..-',\n",
       " '.--- ..- -- .--. ...',\n",
       " '--- ...- . .-.',\n",
       " '- .... .',\n",
       " '.-.. .- --.. -.--',\n",
       " '-.. --- --. .-.-.-  ']"
      ]
     },
     "execution_count": 68,
     "metadata": {},
     "output_type": "execute_result"
    }
   ],
   "source": [
    "code = \"      ...---... -.-.--   - .... .   --.- ..- .. -.-. -.-   -... .-. --- .-- -.   ..-. --- -..-   .--- ..- -- .--. ...   --- ...- . .-.   - .... .   .-.. .- --.. -.--   -.. --- --. .-.-.-  \"\n",
    "\n",
    "s = code.split('   ')\n",
    "s\n",
    "# w = s.split()"
   ]
  },
  {
   "cell_type": "code",
   "execution_count": null,
   "id": "df5f1625",
   "metadata": {},
   "outputs": [
    {
     "name": "stdout",
     "output_type": "stream",
     "text": [
      "....\n",
      ".\n",
      "-.--\n",
      ".---\n",
      "..-\n",
      "-..\n",
      ".\n"
     ]
    }
   ],
   "source": [
    "words = []\n",
    "for w in s:\n",
    "    words.append(w.split())\n",
    "\n",
    "\n",
    "res = ''\n",
    "for word in words:\n",
    "    for e in word:\n",
    "        res += MORSE_CODE[e]\n",
    "    res += ' '\n",
    "\n",
    "return res\n",
    "    "
   ]
  },
  {
   "cell_type": "code",
   "execution_count": 65,
   "id": "0fcb8f11",
   "metadata": {},
   "outputs": [],
   "source": [
    "MORSE_CODE = {\n",
    "    \".-\": \"A\",\n",
    "    \"-...\": \"B\",\n",
    "    \"-.-.\": \"C\",\n",
    "    \"-..\": \"D\",\n",
    "    \".\": \"E\",\n",
    "    \"..-.\": \"F\",\n",
    "    \"--.\": \"G\",\n",
    "    \"....\": \"H\",\n",
    "    \"..\": \"I\",\n",
    "    \".---\": \"J\",\n",
    "    \"-.-\": \"K\",\n",
    "    \".-..\": \"L\",\n",
    "    \"--\": \"M\",\n",
    "    \"-.\": \"N\",\n",
    "    \"---\": \"O\",\n",
    "    \".--.\": \"P\",\n",
    "    \"--.-\": \"Q\",\n",
    "    \".-.\": \"R\",\n",
    "    \"...\": \"S\",\n",
    "    \"-\": \"T\",\n",
    "    \"..-\": \"U\",\n",
    "    \"...-\": \"V\",\n",
    "    \".--\": \"W\",\n",
    "    \"-..-\": \"X\",\n",
    "    \"-.--\": \"Y\",\n",
    "    \"--..\": \"Z\",\n",
    "    \"-----\": \"0\",\n",
    "    \".----\": \"1\",\n",
    "    \"..---\": \"2\",\n",
    "    \"...--\": \"3\",\n",
    "    \"....-\": \"4\",\n",
    "    \".....\": \"5\",\n",
    "    \"-....\": \"6\",\n",
    "    \"--...\": \"7\",\n",
    "    \"---..\": \"8\",\n",
    "    \"----.\": \"9\",\n",
    "    \".-.-.-\": \".\",\n",
    "    \"--..--\": \",\",\n",
    "    \"..--..\": \"?\",\n",
    "    \".----.\": \"'\",\n",
    "    \"-.-.--\": \"!\",\n",
    "    \"-..-.\": \"/\",\n",
    "    \"-.--.\": \"(\",\n",
    "    \"-.--.-\": \")\",\n",
    "    \".-...\": \"&\",\n",
    "    \"---...\": \":\",\n",
    "    \"-.-.-.\": \";\",\n",
    "    \"-...-\": \"=\",\n",
    "    \".-.-.\": \"+\",\n",
    "    \"-....-\": \"-\",\n",
    "    \"..--.-\": \"_\",\n",
    "    \".-..-.\": '\"',\n",
    "    \"...-..-\": \"$\",\n",
    "    \".--.-.\": \"@\",\n",
    "    \"...---...\": \"SOS\",\n",
    "}"
   ]
  },
  {
   "cell_type": "code",
   "execution_count": 69,
   "id": "65828682",
   "metadata": {},
   "outputs": [
    {
     "name": "stdout",
     "output_type": "stream",
     "text": [
      "SOS! THE QUICK BROWN FOX JUMPS OVER THE LAZY DOG.\n"
     ]
    }
   ],
   "source": [
    "code = code.strip()\n",
    "\n",
    "palabras = code.split('   ')\n",
    "\n",
    "trad = []\n",
    "\n",
    "for palabra in palabras:\n",
    "    letras = palabra.split()\n",
    "    palabra_deco = ''.join(MORSE_CODE[letra] for letra in letras)\n",
    "    trad.append(palabra_deco)\n",
    "\n",
    "print(' '.join(trad))"
   ]
  }
 ],
 "metadata": {
  "kernelspec": {
   "display_name": "base",
   "language": "python",
   "name": "python3"
  },
  "language_info": {
   "codemirror_mode": {
    "name": "ipython",
    "version": 3
   },
   "file_extension": ".py",
   "mimetype": "text/x-python",
   "name": "python",
   "nbconvert_exporter": "python",
   "pygments_lexer": "ipython3",
   "version": "3.12.4"
  }
 },
 "nbformat": 4,
 "nbformat_minor": 5
}
