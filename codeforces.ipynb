{
 "cells": [
  {
   "cell_type": "code",
   "execution_count": 2,
   "id": "e5af11b1",
   "metadata": {},
   "outputs": [],
   "source": [
    "import sys\n",
    "import io"
   ]
  },
  {
   "cell_type": "markdown",
   "id": "b8a5351b",
   "metadata": {},
   "source": [
    "# Watermelon"
   ]
  },
  {
   "cell_type": "code",
   "execution_count": 2,
   "id": "c234304e",
   "metadata": {},
   "outputs": [],
   "source": [
    "def watermelon(weight):\n",
    "    print('YES' if weight % 2 == 0 else 'NO')"
   ]
  },
  {
   "cell_type": "code",
   "execution_count": null,
   "id": "c944c961",
   "metadata": {},
   "outputs": [],
   "source": [
    "entrada = '8\\n'\n",
    "sys.stdin = io.StringIO(entrada)\n",
    "\n",
    "weight = int(input().strip())\n",
    "print(\"YES\" if weight % 2 == 0 else \"NO\")"
   ]
  },
  {
   "cell_type": "code",
   "execution_count": 3,
   "id": "6aa50fb1",
   "metadata": {},
   "outputs": [
    {
     "name": "stdout",
     "output_type": "stream",
     "text": [
      "NO\n"
     ]
    }
   ],
   "source": [
    "watermelon(19)"
   ]
  },
  {
   "cell_type": "markdown",
   "id": "e1c74761",
   "metadata": {},
   "source": [
    "# Way Too Long Words"
   ]
  },
  {
   "cell_type": "code",
   "execution_count": 4,
   "id": "4302565f",
   "metadata": {},
   "outputs": [],
   "source": [
    "def long_words(words):\n",
    "    for word in words:\n",
    "        l = len(word)\n",
    "        if l > 10:\n",
    "            print(word[0] + str(l - 2) + word[-1])\n",
    "        else:\n",
    "            print(word)"
   ]
  },
  {
   "cell_type": "code",
   "execution_count": 11,
   "id": "3e1fb940",
   "metadata": {},
   "outputs": [],
   "source": [
    "def abbreviate(word):\n",
    "    return word[0] + str(len(word) - 2) + word[-1] if len(word) > 10 else word"
   ]
  },
  {
   "cell_type": "code",
   "execution_count": 7,
   "id": "fe361359",
   "metadata": {},
   "outputs": [
    {
     "name": "stdout",
     "output_type": "stream",
     "text": [
      "word\n",
      "l10n\n",
      "i18n\n",
      "p43s\n"
     ]
    }
   ],
   "source": [
    "a = [\n",
    "    'word', 'localization', 'internationalization',\n",
    "    'pneumonoultramicroscopicsilicovolcanoconiosis'\n",
    "]\n",
    "long_words(a)"
   ]
  },
  {
   "cell_type": "markdown",
   "id": "ad0111aa",
   "metadata": {},
   "source": [
    "# Team"
   ]
  },
  {
   "cell_type": "code",
   "execution_count": 9,
   "id": "9d96812d",
   "metadata": {},
   "outputs": [],
   "source": [
    "def team(mat):\n",
    "    insanos = 0\n",
    "    for fila in mat:\n",
    "        if sum(fila) > 1:\n",
    "            insanos += 1\n",
    "    return insanos"
   ]
  },
  {
   "cell_type": "code",
   "execution_count": 14,
   "id": "fd7c4844",
   "metadata": {},
   "outputs": [],
   "source": [
    "def team(votes):\n",
    "    return sum(1 for a, b, c in votes if a + b + c > 1)"
   ]
  },
  {
   "cell_type": "code",
   "execution_count": 15,
   "id": "f584baca",
   "metadata": {},
   "outputs": [
    {
     "data": {
      "text/plain": [
       "2"
      ]
     },
     "execution_count": 15,
     "metadata": {},
     "output_type": "execute_result"
    }
   ],
   "source": [
    "matris = [[1, 1, 0], [1, 1, 1], [1, 0, 0]]\n",
    "team(matris)"
   ]
  },
  {
   "cell_type": "markdown",
   "id": "2862f3e2",
   "metadata": {},
   "source": [
    "# Bit++"
   ]
  },
  {
   "cell_type": "code",
   "execution_count": 21,
   "id": "cd7cfcd3",
   "metadata": {},
   "outputs": [],
   "source": [
    "dic = {'++X': 1, 'X++': 1, 'X--': -1, '--X': -1}\n",
    "\n",
    "\n",
    "def bit(simbols):\n",
    "    fin = 0\n",
    "    for i in simbols:\n",
    "        fin += dic[i]\n",
    "    return fin\n",
    "\n",
    "\n",
    "def bitpp(statements):\n",
    "    x = 0\n",
    "    for s in statements:\n",
    "        x += 1 if '++' in s else -1\n",
    "    return x"
   ]
  },
  {
   "cell_type": "code",
   "execution_count": 17,
   "id": "524e2eb0",
   "metadata": {},
   "outputs": [
    {
     "data": {
      "text/plain": [
       "True"
      ]
     },
     "execution_count": 17,
     "metadata": {},
     "output_type": "execute_result"
    }
   ],
   "source": [
    "'++' in '=++2'"
   ]
  },
  {
   "cell_type": "code",
   "execution_count": 22,
   "id": "d11f2556",
   "metadata": {},
   "outputs": [
    {
     "name": "stdout",
     "output_type": "stream",
     "text": [
      "1\n",
      "-1\n",
      "1\n",
      "-2\n"
     ]
    }
   ],
   "source": [
    "print(bitpp([\"++X\"]))  # 1\n",
    "print(bitpp([\"X--\"]))  # -1\n",
    "print(bitpp([\"X++\", \"++X\", \"X--\"]))  # 1\n",
    "print(bitpp([\"--X\", \"--X\", \"X--\", \"X++\"]))  # -2"
   ]
  },
  {
   "cell_type": "markdown",
   "id": "84aba193",
   "metadata": {},
   "source": [
    "# Next Round"
   ]
  },
  {
   "cell_type": "code",
   "execution_count": 28,
   "id": "325c6dbd",
   "metadata": {},
   "outputs": [],
   "source": [
    "def next_round(pun, k):\n",
    "    # return sum(1 for p in pun if p > k)\n",
    "    corte = pun[k - 1]\n",
    "    return sum(1 for p in pun if p >= corte and p > 0)"
   ]
  },
  {
   "cell_type": "code",
   "execution_count": 29,
   "id": "78ee2c86",
   "metadata": {},
   "outputs": [
    {
     "data": {
      "text/plain": [
       "6"
      ]
     },
     "execution_count": 29,
     "metadata": {},
     "output_type": "execute_result"
    }
   ],
   "source": [
    "notas = [10, 9, 8, 7, 7, 7, 5, 5]\n",
    "corte = 5\n",
    "next_round(notas, corte)"
   ]
  },
  {
   "cell_type": "code",
   "execution_count": 31,
   "id": "beb9a5b8",
   "metadata": {},
   "outputs": [
    {
     "name": "stdout",
     "output_type": "stream",
     "text": [
      "Test 1: got=6, expected=6, ok=True\n",
      "Test 2: got=3, expected=3, ok=True\n",
      "Test 3: got=2, expected=2, ok=True\n",
      "Test 4: got=0, expected=0, ok=True\n",
      "Test 5: got=5, expected=5, ok=True\n",
      "Test 6: got=4, expected=4, ok=True\n",
      "Test 7: got=1, expected=1, ok=True\n",
      "Test 8: got=3, expected=3, ok=True\n",
      "Test 9: got=5, expected=5, ok=True\n",
      "Test 10: got=4, expected=4, ok=True\n"
     ]
    }
   ],
   "source": [
    "def run_tests():\n",
    "    cases = [\n",
    "        # 1) Caso del enunciado\n",
    "        (([10, 9, 8, 7, 7, 7, 5, 5], 5), 6),\n",
    "        # 2) Todos positivos, umbral en el medio con empates\n",
    "        (([7, 7, 7, 6, 5, 5, 5, 1], 3), 3),  # threshold=7 ⇒ 3 pasan\n",
    "        # 3) Umbral = 0: solo cuentan los > 0\n",
    "        (([5, 4, 0, 0, 0], 5), 2),\n",
    "        # 4) Todos cero\n",
    "        (([0, 0, 0, 0], 2), 0),\n",
    "        # 5) Umbral en el último, positivo\n",
    "        (([3, 3, 2, 2, 1], 5), 5),\n",
    "        # 6) Grandes empates con ceros al final\n",
    "        (([8, 8, 8, 8, 0, 0], 2), 4),\n",
    "        # 7) Lista de uno\n",
    "        (([1], 1), 1),\n",
    "        # 8) Umbral positivo pero hay ceros antes del final\n",
    "        (([6, 5, 5, 0, 0], 2), 3),\n",
    "        # 9) k justo en el cambio de valor\n",
    "        (([9, 9, 8, 8, 8, 7], 3), 5),  # threshold=8 ⇒ 5 pasan\n",
    "        # 10) Todos iguales y > 0\n",
    "        (([4, 4, 4, 4], 1), 4),\n",
    "    ]\n",
    "\n",
    "    for i, ((scores, k), expected) in enumerate(cases, 1):\n",
    "        got = next_round(scores, k)\n",
    "        print(f\"Test {i}: got={got}, expected={expected}, ok={got==expected}\")\n",
    "\n",
    "\n",
    "# Ejecuta\n",
    "run_tests()"
   ]
  },
  {
   "cell_type": "markdown",
   "id": "95ebdc9c",
   "metadata": {},
   "source": [
    "# Domino piling"
   ]
  },
  {
   "cell_type": "code",
   "execution_count": 32,
   "id": "ca00e300",
   "metadata": {},
   "outputs": [],
   "source": [
    "def domino_piling(m: int, n: int) -> int:\n",
    "    \"\"\"\n",
    "    Devuelve el número máximo de dominós 2x1 que caben en un tablero m x n.\n",
    "    Lógica: cada dominó ocupa 2 casillas → pares de casillas disjuntos.\n",
    "    \"\"\"\n",
    "    return (m * n) // 2"
   ]
  },
  {
   "cell_type": "code",
   "execution_count": 34,
   "id": "bdb95c03",
   "metadata": {},
   "outputs": [
    {
     "data": {
      "text/plain": [
       "4"
      ]
     },
     "execution_count": 34,
     "metadata": {},
     "output_type": "execute_result"
    }
   ],
   "source": [
    "domino_piling(3, 3)"
   ]
  },
  {
   "cell_type": "code",
   "execution_count": 38,
   "id": "19b49145",
   "metadata": {},
   "outputs": [
    {
     "data": {
      "text/plain": [
       "False"
      ]
     },
     "execution_count": 38,
     "metadata": {},
     "output_type": "execute_result"
    }
   ],
   "source": [
    "(5/3).is_integer()"
   ]
  },
  {
   "cell_type": "code",
   "execution_count": 42,
   "id": "a33dbead",
   "metadata": {},
   "outputs": [
    {
     "data": {
      "text/plain": [
       "1"
      ]
     },
     "execution_count": 42,
     "metadata": {},
     "output_type": "execute_result"
    }
   ],
   "source": [
    "4%3"
   ]
  },
  {
   "cell_type": "code",
   "execution_count": 43,
   "id": "b6201ec1",
   "metadata": {},
   "outputs": [
    {
     "data": {
      "text/plain": [
       "1"
      ]
     },
     "execution_count": 43,
     "metadata": {},
     "output_type": "execute_result"
    }
   ],
   "source": [
    "abs(1-2)"
   ]
  },
  {
   "cell_type": "code",
   "execution_count": null,
   "id": "1ac2c407",
   "metadata": {},
   "outputs": [
    {
     "data": {
      "text/plain": [
       "'abacab#a.'"
      ]
     },
     "execution_count": 46,
     "metadata": {},
     "output_type": "execute_result"
    }
   ],
   "source": [
    "s = 'aBAcAba'\n",
    "s.lower()"
   ]
  }
 ],
 "metadata": {
  "kernelspec": {
   "display_name": "base",
   "language": "python",
   "name": "python3"
  },
  "language_info": {
   "codemirror_mode": {
    "name": "ipython",
    "version": 3
   },
   "file_extension": ".py",
   "mimetype": "text/x-python",
   "name": "python",
   "nbconvert_exporter": "python",
   "pygments_lexer": "ipython3",
   "version": "3.12.4"
  }
 },
 "nbformat": 4,
 "nbformat_minor": 5
}
