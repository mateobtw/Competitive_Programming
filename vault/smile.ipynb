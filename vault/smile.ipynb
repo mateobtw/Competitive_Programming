{
 "cells": [
  {
   "cell_type": "code",
   "execution_count": 37,
   "id": "929a0445",
   "metadata": {},
   "outputs": [
    {
     "name": "stdout",
     "output_type": "stream",
     "text": [
      "72\n"
     ]
    }
   ],
   "source": [
    "x = 24\n",
    "print(x * 3)"
   ]
  },
  {
   "cell_type": "code",
   "execution_count": 36,
   "id": "81b965c1",
   "metadata": {},
   "outputs": [
    {
     "name": "stdout",
     "output_type": "stream",
     "text": [
      "85.5\n"
     ]
    }
   ],
   "source": [
    "x = 28 + 0.5\n",
    "print(x * 3)"
   ]
  },
  {
   "cell_type": "code",
   "execution_count": 4,
   "id": "507321e5",
   "metadata": {},
   "outputs": [
    {
     "name": "stdout",
     "output_type": "stream",
     "text": [
      "[0, 1, 2, 3]\n",
      "0 1 2 3\n"
     ]
    }
   ],
   "source": [
    "a = [x for x in range(4)]\n",
    "print(a)\n",
    "print(*a)"
   ]
  },
  {
   "cell_type": "code",
   "execution_count": 7,
   "id": "d9b111e7",
   "metadata": {},
   "outputs": [
    {
     "data": {
      "text/plain": [
       "2"
      ]
     },
     "execution_count": 7,
     "metadata": {},
     "output_type": "execute_result"
    }
   ],
   "source": [
    "10%4"
   ]
  },
  {
   "cell_type": "code",
   "execution_count": 9,
   "id": "b6cdf945",
   "metadata": {},
   "outputs": [
    {
     "data": {
      "text/plain": [
       "0"
      ]
     },
     "execution_count": 9,
     "metadata": {},
     "output_type": "execute_result"
    }
   ],
   "source": [
    "a = set()\n",
    "len(a)"
   ]
  },
  {
   "cell_type": "code",
   "execution_count": 16,
   "id": "3ef120ea",
   "metadata": {},
   "outputs": [
    {
     "data": {
      "text/plain": [
       "[(4, 7), (7, 4)]"
      ]
     },
     "execution_count": 16,
     "metadata": {},
     "output_type": "execute_result"
    }
   ],
   "source": [
    "from itertools import permutations\n",
    "a = [4, 7]\n",
    "x= list(permutations(a))\n",
    "x"
   ]
  },
  {
   "cell_type": "code",
   "execution_count": 7,
   "id": "b1bb5299",
   "metadata": {},
   "outputs": [
    {
     "name": "stdout",
     "output_type": "stream",
     "text": [
      "[1]\n"
     ]
    },
    {
     "data": {
      "text/plain": [
       "[2, 1]"
      ]
     },
     "execution_count": 7,
     "metadata": {},
     "output_type": "execute_result"
    }
   ],
   "source": [
    "stack = []\n",
    "stack.append(1)\n",
    "print(stack)\n",
    "stack.insert(0, 2)\n",
    "stack"
   ]
  },
  {
   "cell_type": "code",
   "execution_count": 10,
   "id": "9a6ff726",
   "metadata": {},
   "outputs": [
    {
     "data": {
      "text/plain": [
       "2"
      ]
     },
     "execution_count": 10,
     "metadata": {},
     "output_type": "execute_result"
    }
   ],
   "source": [
    "import math\n",
    "\n",
    "int(math.log(5, 2))"
   ]
  },
  {
   "cell_type": "code",
   "execution_count": 117,
   "id": "ba283007",
   "metadata": {},
   "outputs": [
    {
     "name": "stdout",
     "output_type": "stream",
     "text": [
      "1121\n"
     ]
    }
   ],
   "source": [
    "x = '1121'\n",
    "w = list(map(int, x))\n",
    "print(''.join(str(x) for x in w))"
   ]
  },
  {
   "cell_type": "code",
   "execution_count": 47,
   "id": "dcfc5d0e",
   "metadata": {},
   "outputs": [
    {
     "data": {
      "text/plain": [
       "0"
      ]
     },
     "execution_count": 47,
     "metadata": {},
     "output_type": "execute_result"
    }
   ],
   "source": [
    "4041 % (2021 + 2020)\n"
   ]
  },
  {
   "cell_type": "code",
   "execution_count": 44,
   "id": "23c694e7",
   "metadata": {},
   "outputs": [
    {
     "data": {
      "text/plain": [
       "2.0"
      ]
     },
     "execution_count": 44,
     "metadata": {},
     "output_type": "execute_result"
    }
   ],
   "source": [
    "4042 / (2021)"
   ]
  },
  {
   "cell_type": "code",
   "execution_count": 51,
   "id": "4594a6ad",
   "metadata": {},
   "outputs": [
    {
     "data": {
      "text/plain": [
       "1.9997525365008662"
      ]
     },
     "execution_count": 51,
     "metadata": {},
     "output_type": "execute_result"
    }
   ],
   "source": [
    "8081  / (2021 + 2020)"
   ]
  },
  {
   "cell_type": "markdown",
   "id": "f5257a7a",
   "metadata": {},
   "source": [
    "s.count('01')"
   ]
  },
  {
   "cell_type": "code",
   "execution_count": 72,
   "id": "17b1d552",
   "metadata": {},
   "outputs": [
    {
     "data": {
      "text/plain": [
       "'01'"
      ]
     },
     "execution_count": 72,
     "metadata": {},
     "output_type": "execute_result"
    }
   ],
   "source": [
    "s = '1100'\n",
    "s.count(\"10\" or '01')\n",
    "\n",
    "w = '01'\n",
    "w.replace('10', '')\n"
   ]
  },
  {
   "cell_type": "code",
   "execution_count": 71,
   "id": "e155bc52",
   "metadata": {},
   "outputs": [
    {
     "data": {
      "text/plain": [
       "2"
      ]
     },
     "execution_count": 71,
     "metadata": {},
     "output_type": "execute_result"
    }
   ],
   "source": [
    "x = s.replace('01', '')\n",
    "y = x.replace(\"10\", \"\")\n",
    "len(y)"
   ]
  },
  {
   "cell_type": "code",
   "execution_count": 115,
   "id": "a1585d25",
   "metadata": {},
   "outputs": [
    {
     "data": {
      "text/plain": [
       "[1, 2, 3]"
      ]
     },
     "execution_count": 115,
     "metadata": {},
     "output_type": "execute_result"
    }
   ],
   "source": [
    "a = [1, 3,2,2]\n",
    "x = set(a)\n",
    "y = list(x)\n",
    "y"
   ]
  },
  {
   "cell_type": "code",
   "execution_count": 121,
   "id": "7f8fd24d",
   "metadata": {},
   "outputs": [
    {
     "data": {
      "text/plain": [
       "9"
      ]
     },
     "execution_count": 121,
     "metadata": {},
     "output_type": "execute_result"
    }
   ],
   "source": [
    "x = \"09\"\n",
    "x\n",
    "int(x)"
   ]
  },
  {
   "cell_type": "code",
   "execution_count": 1,
   "id": "7e026efb",
   "metadata": {},
   "outputs": [
    {
     "data": {
      "text/plain": [
       "[0, 1, 2, 3]"
      ]
     },
     "execution_count": 1,
     "metadata": {},
     "output_type": "execute_result"
    }
   ],
   "source": [
    "n = 4\n",
    "vals = [0, 1, 2, 3]\n",
    "vals = vals[:n]\n",
    "vals"
   ]
  },
  {
   "cell_type": "code",
   "execution_count": 2,
   "id": "c0cc00a6",
   "metadata": {},
   "outputs": [
    {
     "data": {
      "text/plain": [
       "240"
      ]
     },
     "execution_count": 2,
     "metadata": {},
     "output_type": "execute_result"
    }
   ],
   "source": [
    "4 * 60"
   ]
  },
  {
   "cell_type": "code",
   "execution_count": 6,
   "id": "182213af",
   "metadata": {},
   "outputs": [
    {
     "name": "stdout",
     "output_type": "stream",
     "text": [
      "[0, 117, 234, 351, 468, 585, 702, 819, 936, 1053]\n"
     ]
    }
   ],
   "source": [
    "print([(117 * i) for i in range(10)])"
   ]
  }
 ],
 "metadata": {
  "kernelspec": {
   "display_name": "base",
   "language": "python",
   "name": "python3"
  },
  "language_info": {
   "codemirror_mode": {
    "name": "ipython",
    "version": 3
   },
   "file_extension": ".py",
   "mimetype": "text/x-python",
   "name": "python",
   "nbconvert_exporter": "python",
   "pygments_lexer": "ipython3",
   "version": "3.12.4"
  }
 },
 "nbformat": 4,
 "nbformat_minor": 5
}
